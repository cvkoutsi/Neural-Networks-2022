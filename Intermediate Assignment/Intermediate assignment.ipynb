{
 "cells": [
  {
   "cell_type": "code",
   "execution_count": 1,
   "id": "6cbf8372",
   "metadata": {},
   "outputs": [],
   "source": [
    "import pandas as pd\n",
    "import time\n",
    "from sklearn.neighbors import KNeighborsClassifier,NearestCentroid\n"
   ]
  },
  {
   "cell_type": "code",
   "execution_count": 2,
   "id": "b5c85fed",
   "metadata": {},
   "outputs": [],
   "source": [
    "train = pd.read_csv('./data/mnist_train.csv').to_numpy()\n",
    "test = pd.read_csv('./data/mnist_test.csv').to_numpy()\n",
    "\n",
    "train_x = train[:,1:]\n",
    "train_y = train[:,0]\n",
    "test_x = test[:,1:]\n",
    "test_y = test[:,0]"
   ]
  },
  {
   "cell_type": "code",
   "execution_count": 4,
   "id": "f110b8f2-106f-4adf-b80d-82775a52d25c",
   "metadata": {},
   "outputs": [
    {
     "name": "stdout",
     "output_type": "stream",
     "text": [
      "Classification with 1-neighbors Classifier Done\n",
      "Execution Times:\n",
      " Fitting time= 0.19 \n",
      " Prediction time= 13.82 \n",
      " Total time= 14.01\n",
      "The model has achieved accuracy 1.00000% on the training set\n",
      "The model has achieved accuracy 0.96910% on the test set\n",
      "Classification with 3-neighbors Classifier Done\n",
      "Execution Times:\n",
      " Fitting time= 0.12 \n",
      " Prediction time= 13.43 \n",
      " Total time= 13.55\n",
      "The model has achieved accuracy 0.98672% on the training set\n",
      "The model has achieved accuracy 0.97050% on the test set\n"
     ]
    }
   ],
   "source": [
    "# K Nearest Neighbors Algorithm Implementation\n",
    "neighbors = [1,3]\n",
    "for k in neighbors:\n",
    "    model = KNeighborsClassifier(k)\n",
    "\n",
    "    t1 = time.time()\n",
    "    #fit the model using training data\n",
    "    model.fit(train_x,train_y)\n",
    "    t2 = time.time()\n",
    "\n",
    "    #predict the labels from test data\n",
    "    prediction_test = model.predict(test_x)\n",
    "    t3 = time.time()\n",
    "    prediction_train = model.predict(train_x)\n",
    "\n",
    "    fitting_time = t2-t1\n",
    "    prediction_time = t3-t2\n",
    "    total_time = t3-t1\n",
    "    \n",
    "    accuracy_test = model.score(test_x, test_y)\n",
    "    accuracy_train = model.score(train_x, train_y)\n",
    "    \n",
    "    print(\"Classification with %d-neighbors Classifier Done\" %k)\n",
    "    print(\"Execution Times:\\n Fitting time= %.2f \\n Prediction time= %.2f \\n Total time= %.2f\" % (fitting_time, prediction_time, total_time))\n",
    "    print(\"The model has achieved accuracy %.5f%% on the training set\" % accuracy_train)\n",
    "    print(\"The model has achieved accuracy %.5f%% on the test set\" % accuracy_test)"
   ]
  },
  {
   "cell_type": "code",
   "execution_count": 5,
   "id": "6a58ea17-a1d2-4761-b141-e1d7c76cf135",
   "metadata": {},
   "outputs": [
    {
     "name": "stdout",
     "output_type": "stream",
     "text": [
      "Classification with Nearest Centroid Classifier Done\n",
      "Execution Times:\n",
      " Fitting time= 0.36264 \n",
      " Prediction time= 0.05002 \n",
      " Total time= 0.41266\n",
      "The model has achieved accuracy 0.80798% on the training set\n",
      "The model has achieved accuracy 0.82030% on the test set\n"
     ]
    }
   ],
   "source": [
    "# Nearest Ce Aloidgorithm Implementation\n",
    "model = NearestCentroid()\n",
    "\n",
    "t1 = time.time()\n",
    "#fit the model using training data\n",
    "model.fit(train_x,train_y);\n",
    "t2 = time.time()\n",
    "\n",
    "#predict the labels from test data\n",
    "prediction = model.predict(test_x)\n",
    "t3 = time.time()\n",
    "prediction_train = model.predict(train_x)\n",
    "\n",
    "fitting_time = t2-t1\n",
    "prediction_time = t3-t2\n",
    "total_time = t3-t1\n",
    "\n",
    "accuracy_test = model.score(test_x, test_y)\n",
    "accuracy_train = model.score(train_x, train_y)\n",
    "\n",
    "print(\"Classification with Nearest Centroid Classifier Done\")\n",
    "print(\"Execution Times:\\n Fitting time= %.5f \\n Prediction time= %.5f \\n Total time= %.5f\" % (fitting_time, prediction_time, total_time))\n",
    "print(\"The model has achieved accuracy %.5f%% on the training set\" % accuracy_train)\n",
    "print(\"The model has achieved accuracy %.5f%% on the test set\" % accuracy_test)"
   ]
  }
 ],
 "metadata": {
  "kernelspec": {
   "display_name": "Python 3 (ipykernel)",
   "language": "python",
   "name": "python3"
  },
  "language_info": {
   "codemirror_mode": {
    "name": "ipython",
    "version": 3
   },
   "file_extension": ".py",
   "mimetype": "text/x-python",
   "name": "python",
   "nbconvert_exporter": "python",
   "pygments_lexer": "ipython3",
   "version": "3.10.7"
  },
  "vscode": {
   "interpreter": {
    "hash": "edf259275ad4a72d4dd5b452264ad5fb2b635233dff2a31edc6ebc740e55e21b"
   }
  }
 },
 "nbformat": 4,
 "nbformat_minor": 5
}
