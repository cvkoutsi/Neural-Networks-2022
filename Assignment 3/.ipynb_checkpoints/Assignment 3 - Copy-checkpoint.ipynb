{
 "cells": [
  {
   "cell_type": "code",
   "execution_count": 1,
   "id": "1c6f1264-95a5-46a2-9209-c5fbe5fba572",
   "metadata": {},
   "outputs": [],
   "source": [
    "import pandas as pd\n",
    "import numpy as np\n",
    "import matplotlib.pyplot as plt\n",
    "import time\n",
    "import random\n",
    "import math\n",
    "from sklearn.cluster import KMeans\n"
   ]
  },
  {
   "cell_type": "markdown",
   "id": "5b41bbab-511f-49f6-acb8-1883361fdaf6",
   "metadata": {},
   "source": [
    "# 1. Φόρτωση και κανονικοποίηση των δεδομένων"
   ]
  },
  {
   "cell_type": "code",
   "execution_count": 73,
   "id": "4834c692-19af-41ff-a26c-50464309de72",
   "metadata": {},
   "outputs": [
    {
     "name": "stdout",
     "output_type": "stream",
     "text": [
      "   label  1x1  1x2  1x3  1x4  1x5  1x6  1x7  1x8  1x9  ...  28x19  28x20  \\\n",
      "0      5    0    0    0    0    0    0    0    0    0  ...      0      0   \n",
      "1      0    0    0    0    0    0    0    0    0    0  ...      0      0   \n",
      "2      4    0    0    0    0    0    0    0    0    0  ...      0      0   \n",
      "3      1    0    0    0    0    0    0    0    0    0  ...      0      0   \n",
      "4      9    0    0    0    0    0    0    0    0    0  ...      0      0   \n",
      "\n",
      "   28x21  28x22  28x23  28x24  28x25  28x26  28x27  28x28  \n",
      "0      0      0      0      0      0      0      0      0  \n",
      "1      0      0      0      0      0      0      0      0  \n",
      "2      0      0      0      0      0      0      0      0  \n",
      "3      0      0      0      0      0      0      0      0  \n",
      "4      0      0      0      0      0      0      0      0  \n",
      "\n",
      "[5 rows x 785 columns]\n"
     ]
    }
   ],
   "source": [
    "train = pd.read_csv('./data/mnist_train.csv')\n",
    "test = pd.read_csv('./data/mnist_test.csv')\n",
    "\n",
    "print(train.head())\n",
    "\n",
    "train =train.to_numpy()\n",
    "test =test.to_numpy()\n",
    "\n",
    "train_x, train_y = train[:,1:], train[:,0]\n",
    "test_x, test_y = test[:,1:], test[:,0]\n",
    "\n",
    "#normalize data\n",
    "train_x = train_x/255\n",
    "test_x = test_x/255"
   ]
  },
  {
   "cell_type": "markdown",
   "id": "8964c19b-9115-49a9-874d-0160d0c78ea8",
   "metadata": {},
   "source": [
    "# 2. Δημιουργία κλάσης RBF νευρωνικού δικτύου"
   ]
  },
  {
   "cell_type": "code",
   "execution_count": 18,
   "id": "3c609318-52df-41c8-815c-db0a127baa2f",
   "metadata": {},
   "outputs": [],
   "source": [
    "class RBF_NN():\n",
    "    \n",
    "    def __init__(self,RBF_function = \"gaussian\",center_select = \"random\",n_of_centers = 10):\n",
    "        \"\"\"\n",
    "        Initialize RBF neural network with specific parameter selection\n",
    "        Arguments: \n",
    "        @param RBF_function: the RBF function used in the NN. Can be\n",
    "            - \"gaussian\": Gaussian function\n",
    "            - \"inverse multiquadrics\": Inverse multiquadrics function\n",
    "            - \"cauchy\": Cauchy function \n",
    "            \n",
    "        @param center_select: defines the way tha the centers are initialised.\n",
    "            - \"random\": random selection of one image per label\n",
    "            - \"mean\": mean of all images with the same label\n",
    "            - \"kmeans\": selection of centers through the kmeans algorithm \n",
    "        \n",
    "        @param n_of_centers: the number of centers/ number of neurons in the hiddel layer.\n",
    "            - In case of mean selection of center it is equal to 10 (number of labels). \n",
    "            - In case of kmeans, it defines the k. \n",
    "        \"\"\"\n",
    "        self.RBF_function  = RBF_function\n",
    "        self.center_select = center_select\n",
    "        self.n_of_centers = n_of_centers \n",
    "        self.weights = np.zeros((n_of_centers,10))\n",
    "        self.centers = np.zeros((n_of_centers,784))    \n",
    "        self.sigma = None\n",
    "        \n",
    "    def init_centers(self,X,Y):\n",
    "        \"\"\"\n",
    "        Initializes the centers of the hidden layer depending on the center select input\n",
    "        \"\"\"\n",
    "        if self.center_select == \"random\": \n",
    "            self.centers = self.center_random_select(X,Y)\n",
    "        elif self.center_select == \"mean\": \n",
    "            self.centers = self.center_mean(X,Y)\n",
    "        elif self.center_select == \"kmeans\": \n",
    "            self.centers = self.center_k_means(X)\n",
    "        else:\n",
    "            raise Exception(\"Invalid center initialisation\")\n",
    "            \n",
    "    def calculate_sigma(self):\n",
    "        \"\"\"\n",
    "        Returns the calculated sigma using the formula sigma = d/sqrt(2p)\n",
    "            @param d = maximum distance between centers\n",
    "            @param p = number of centers\n",
    "            @param centers: the calculated centers of the network \n",
    "            \n",
    "            **Returns [n_of_centers x 784] array\n",
    "        \"\"\"\n",
    "        max = 0\n",
    "        for i in range(self.n_of_centers):\n",
    "            for j in range(self.n_of_centers):\n",
    "                d = np.linalg.norm(self.centers[i,:] - self.centers[j,:])\n",
    "                if (d > max):\n",
    "                    max = d\n",
    "        d = max\n",
    "        self.sigma = d/math.sqrt(2*self.n_of_centers)\n",
    "        \n",
    "    def center_random_select(self,X,Y):\n",
    "        \"\"\"\n",
    "        Returns n_of_centers number of centers after random selection of images \n",
    "        Arguments:\n",
    "            @param X: values of training dataset [M x 784]\n",
    "            @param Y: labels of training dataset [1 x 784]\n",
    "            **Returns [n_of_centers x 784] array\n",
    "        \"\"\"\n",
    "        k = self.n_of_centers\n",
    "        centers = np.zeros((k,X.shape[1]))\n",
    "        d = k // 10\n",
    "        m = k % 10\n",
    "        index = 0\n",
    "        for i in range(d):\n",
    "            for j in range(10):\n",
    "                condition = np.squeeze(np.where(Y == j))\n",
    "                idx = random.choice(condition)\n",
    "                centers[index,:] = X[idx,:]\n",
    "                index += 1\n",
    "        for i in range(m): \n",
    "            l = random.randint(0, 9)\n",
    "            condition = np.squeeze(np.where(Y == l))\n",
    "            idx = random.choice(condition)\n",
    "            centers[index,:] = X[idx,:]\n",
    "            index += 1\n",
    "        return centers  \n",
    "    \n",
    "    def center_mean(self,X,Y):\n",
    "        \"\"\"\n",
    "        Returns n_of_centers number of centers after calculating the mean of all images with the same label \n",
    "        Arguments:\n",
    "            @param X: values of training dataset [M x 784]\n",
    "            @param Y: labels of training dataset [1 x 784]\n",
    "            **Returns [n_of_centers x 784] araay\n",
    "        \"\"\"\n",
    "        means = np.zeros((10,X.shape[1]))\n",
    "        for i in range(10):\n",
    "            idx = np.squeeze(np.where(Y == i))\n",
    "            means[i,:] = np.mean(X[idx,:],axis = 0)\n",
    "            \n",
    "        k = self.n_of_centers\n",
    "        centers = np.zeros((k,X.shape[1]))\n",
    "        d = k // 10\n",
    "        m = k % 10\n",
    "        index = 0\n",
    "        for i in range(d):\n",
    "            for j in range(10):\n",
    "                centers[index,:] = means[j,:]\n",
    "                index += 1\n",
    "        for i in range(m): \n",
    "            l = random.randint(0, 9)\n",
    "            centers[index,:] = means[l,:]\n",
    "            index += 1\n",
    "        return centers\n",
    "    \n",
    "    def center_k_means(self,X):\n",
    "        \"\"\"\n",
    "        Returns n_of_centers number of centers after selection through the kmeans algorithm\n",
    "        Arguments:\n",
    "            @param X: values of training dataset [M x 784]\n",
    "             **Returns [n_of_centers x 784] array\n",
    "        \"\"\"\n",
    "        km = KMeans(n_clusters = self.n_of_centers, max_iter = 100)\n",
    "        km.fit(X)\n",
    "        centers = km.cluster_centers_   \n",
    "        return centers\n",
    "    \n",
    "    def gaussian(self,X):\n",
    "        \"\"\"\n",
    "        Returns the gaussian distance of train samples from each center [n_of_centers x M] \n",
    "        Arguments:\n",
    "            @param X: values of training dataset [M x 784]\n",
    "            @param centers: the calculated centers of the network [n_of_centers x 784]\n",
    "            @param sigma: the calculated sigma \n",
    "        \"\"\"\n",
    "        sigma = self.sigma\n",
    "        val = np.zeros((self.centers.shape[0],X.shape[0]))\n",
    "        for i in range(self.centers.shape[0]):\n",
    "            for j in range(X.shape[0]):\n",
    "                val[i,j] = np.exp(-np.linalg.norm(self.centers[i,:]-X[j,:])**2/sigma**2) \n",
    "        return val\n",
    "\n",
    "    def inv_multiquadrics(self,X):\n",
    "        \"\"\"\n",
    "        Returns the distance of train samples from each center calculated throught the inverse multiquadrics function [n_of_centers x M]\n",
    "        Arguments:\n",
    "            @param X: values of training dataset [M x 784]\n",
    "            @param centers: the calculated centers of the network [n_of_centers x 784]\n",
    "            @param sigma: the calculated sigma \n",
    "        \"\"\"\n",
    "        sigma = self.sigma\n",
    "        val = np.zeros((self.centers.shape[0],X.shape[0]))\n",
    "        for i in range(self.centers.shape[0]):\n",
    "            for j in range(X.shape[0]):\n",
    "                val[i,j] = 1/np.sqrt(np.linalg.norm(self.centers[i,:]-X[j,:])**2 + sigma**2)\n",
    "        return val\n",
    "\n",
    "    def cauchy(self,X):\n",
    "        \"\"\"\n",
    "        Returns the distance of train samples from each center calculated throught the Cauchy function [n_of_centers x M]\n",
    "        Arguments:\n",
    "            @param X: values of training dataset [M x 784]\n",
    "            @param centers: the calculated centers of the network [n_of_centers x 784]\n",
    "            @param sigma: the calculated sigma \n",
    "        \"\"\"\n",
    "        sigma = self.sigma\n",
    "        val = np.zeros((self.centers.shape[0],X.shape[0]))\n",
    "        for i in range(self.centers.shape[0]):\n",
    "            for j in range(X.shape[0]):\n",
    "                val[i,j] = (np.linalg.norm(self.centers[i,:]-X[j,:])**2 + sigma**2) ** (-1) / sigma\n",
    "        return val\n",
    "    \n",
    "    \n",
    "    def fit(self,X,Y):\n",
    "        \"\"\"\n",
    "        Calculates the weights of the network and returns the predictions\n",
    "        @param X: values of training dataset [M x 784]\n",
    "        @param Y: lebels  of training dataset [M x 784]\n",
    "\n",
    "        \"\"\"\n",
    "        start = time.time()\n",
    "        self.init_centers(X,Y)\n",
    "        self.calculate_sigma()\n",
    "        if self.RBF_function == \"gaussian\":\n",
    "            D = self.gaussian(X)\n",
    "        elif self.RBF_function == \"inverse multiquadrics\":\n",
    "            D = self.inv_multiquadrics(X)\n",
    "        elif self.RBF_function == \"cauchy\":\n",
    "            D = self.cauchy(X)\n",
    "        else:\n",
    "            raise Exception(\"Invalid RBF function\")\n",
    "        G = np.array(Y[:, None] == np.arange(10), np.float32)\n",
    "        a = np.linalg.pinv(D)\n",
    "        self.weights = np.dot(a.T,G)\n",
    "        preds = np.dot(D.T,self.weights)\n",
    "        predictions = np.argmax(preds,axis=1)\n",
    "        \n",
    "        end = time.time()\n",
    "        print('Total training time = %.4f s' % (end-start))\n",
    "        \n",
    "        return predictions\n",
    "    \n",
    "    def predict(self,X):\n",
    "        \"\"\"\n",
    "        Returns the predictions \n",
    "        @param X: values of testing dataset [M x 784]\n",
    "        \"\"\" \n",
    "        if self.RBF_function == \"gaussian\":\n",
    "            D = self.gaussian(X)\n",
    "        elif self.RBF_function == \"inverse multiquadrics\":\n",
    "            D = self.inv_multiquadrics(X)\n",
    "        elif self.RBF_function == \"cauchy\":\n",
    "            D = self.cauchy(X)\n",
    "        preds = np.dot(D.T,self.weights)\n",
    "        predictions = np.argmax(preds,axis=1)\n",
    "\n",
    "        return predictions\n",
    "    "
   ]
  },
  {
   "cell_type": "code",
   "execution_count": 14,
   "id": "12d23ef6-ae79-4d87-988c-65fda6107a0e",
   "metadata": {},
   "outputs": [],
   "source": [
    "def accuracy(y, output):\n",
    "    return np.sum(output == y) / y.size\n",
    "\n",
    "def MSE(y, output):\n",
    "    return np.square(np.subtract(y, output)).mean()\n"
   ]
  },
  {
   "cell_type": "markdown",
   "id": "fdb52a35-9034-49c0-b36b-817d65c9d041",
   "metadata": {},
   "source": [
    "# 3. Χρήση νευρωνικού δικτύου χωρίς μείωση διάστασης\n",
    "***"
   ]
  },
  {
   "cell_type": "markdown",
   "id": "b50428f3-b27c-450b-8309-bfeaa20a8c30",
   "metadata": {},
   "source": [
    "<font size=\"4.5\">**α. Αρχικοποίηση κέντρων με τυχαία επιλογή εικόνων**</font>\n"
   ]
  },
  {
   "cell_type": "markdown",
   "id": "f235007f-c27c-49a8-9cbd-2570539e890d",
   "metadata": {},
   "source": [
    "- Χρήση Gauss συνάρτησης ακτινικού τύπου "
   ]
  },
  {
   "cell_type": "code",
   "execution_count": 8,
   "id": "1b048d59-eec2-435a-be1a-a2c762f900e3",
   "metadata": {
    "scrolled": true,
    "tags": []
   },
   "outputs": [
    {
     "name": "stdout",
     "output_type": "stream",
     "text": [
      "[RBF NN with Gaussian RBF function, random center selection and 10 centers]\n",
      "Total training time = 3.1407\n",
      "Train accuracy = 0.3777\n",
      "Train error = 13.1571\n",
      "Test accuracy = 0.3803\n",
      "Test error = 13.2473\n",
      "\n",
      "[RBF NN with Gaussian RBF function, random center selection and 25 centers]\n",
      "Total training time = 7.9257\n",
      "Train accuracy = 0.5427\n",
      "Train error = 7.7466\n",
      "Test accuracy = 0.5497\n",
      "Test error = 7.5118\n",
      "\n",
      "[RBF NN with Gaussian RBF function, random center selection and 50 centers]\n",
      "Total training time = 16.2120\n",
      "Train accuracy = 0.6045\n",
      "Train error = 6.6037\n",
      "Test accuracy = 0.6212\n",
      "Test error = 6.1681\n",
      "\n",
      "[RBF NN with Gaussian RBF function, random center selection and 100 centers]\n",
      "Total training time = 33.3884\n",
      "Train accuracy = 0.7231\n",
      "Train error = 4.8557\n",
      "Test accuracy = 0.7367\n",
      "Test error = 4.5386\n",
      "\n",
      "[RBF NN with Gaussian RBF function, random center selection and 150 centers]\n",
      "Total training time = 49.2155\n",
      "Train accuracy = 0.7429\n",
      "Train error = 4.4246\n",
      "Test accuracy = 0.7555\n",
      "Test error = 4.1462\n",
      "\n",
      "[RBF NN with Gaussian RBF function, random center selection and 200 centers]\n",
      "Total training time = 65.7530\n",
      "Train accuracy = 0.7800\n",
      "Train error = 3.9517\n",
      "Test accuracy = 0.7944\n",
      "Test error = 3.6006\n",
      "\n"
     ]
    }
   ],
   "source": [
    "n_of_centers = [10,25,50,100,150,200]\n",
    "\n",
    "for n in n_of_centers:\n",
    "    nn = RBF_NN(RBF_function = \"gaussian\",center_select = \"random\", n_of_centers=n)\n",
    "    \n",
    "    print(\"[RBF NN with Gaussian RBF function, random center selection and %d centers]\" %n)\n",
    "    preds = nn.fit(train_x,train_y)\n",
    "    train_acc = accuracy(train_y,preds)\n",
    "    train_error = MSE(train_y,preds)\n",
    "    print('Train accuracy = %.4f' % train_acc)\n",
    "    print('Train error = %.4f' % train_error)\n",
    "        \n",
    "    predictions = nn.predict(test_x)\n",
    "    test_acc = accuracy(test_y,predictions)\n",
    "    test_error = MSE(test_y,predictions)\n",
    "    print('Test accuracy = %.4f' % test_acc)\n",
    "    print('Test error = %.4f\\n' % test_error)"
   ]
  },
  {
   "cell_type": "markdown",
   "id": "19b52b90-0ba0-4f19-b0b3-bc584109f4e4",
   "metadata": {},
   "source": [
    "- Χρήση αντίστροφης πολυτετραγωνικής συνάρτησης ακτινικού τύπου"
   ]
  },
  {
   "cell_type": "code",
   "execution_count": 17,
   "id": "aecd1b97-bdaa-47a3-b883-c6b720f508fe",
   "metadata": {
    "scrolled": true,
    "tags": []
   },
   "outputs": [
    {
     "name": "stdout",
     "output_type": "stream",
     "text": [
      "[RBF NN with inverse multiquadrics function, random center selection and 10 centers]\n",
      "Total training time = 3.1656\n",
      "Train accuracy = 0.5621\n",
      "Train error = 7.1502\n",
      "Test accuracy = 0.5647\n",
      "Test error = 6.9902\n",
      "\n",
      "[RBF NN with inverse multiquadrics function, random center selection and 25 centers]\n",
      "Total training time = 7.8295\n",
      "Train accuracy = 0.7679\n",
      "Train error = 4.0565\n",
      "Test accuracy = 0.7754\n",
      "Test error = 4.0294\n",
      "\n",
      "[RBF NN with inverse multiquadrics function, random center selection and 50 centers]\n",
      "Total training time = 15.8396\n",
      "Train accuracy = 0.8120\n",
      "Train error = 3.2664\n",
      "Test accuracy = 0.8200\n",
      "Test error = 3.0969\n",
      "\n",
      "[RBF NN with inverse multiquadrics function, random center selection and 75 centers]\n",
      "Total training time = 23.9664\n",
      "Train accuracy = 0.8556\n",
      "Train error = 2.6166\n",
      "Test accuracy = 0.8632\n",
      "Test error = 2.3606\n",
      "\n",
      "[RBF NN with inverse multiquadrics function, random center selection and 100 centers]\n",
      "Total training time = 32.4080\n",
      "Train accuracy = 0.8611\n",
      "Train error = 2.3899\n",
      "Test accuracy = 0.8650\n",
      "Test error = 2.3647\n",
      "\n"
     ]
    }
   ],
   "source": [
    "n_of_centers = [10,25,50,75,100]\n",
    "\n",
    "for n in n_of_centers:\n",
    "    nn = RBF_NN(RBF_function = \"inverse multiquadrics\",center_select = \"random\", n_of_centers=n)\n",
    "    \n",
    "    print(\"[RBF NN with inverse multiquadrics function, random center selection and %d centers]\" %n)\n",
    "    preds = nn.fit(train_x,train_y)\n",
    "    train_acc = accuracy(train_y,preds)\n",
    "    train_error = MSE(train_y,preds)\n",
    "    print('Train accuracy = %.4f' % train_acc)\n",
    "    print('Train error = %.4f' % train_error)\n",
    "        \n",
    "    predictions = nn.predict(test_x)\n",
    "    test_acc = accuracy(test_y,predictions)\n",
    "    test_error = MSE(test_y,predictions)\n",
    "    print('Test accuracy = %.4f' % test_acc)\n",
    "    print('Test error = %.4f\\n' % test_error)"
   ]
  },
  {
   "cell_type": "markdown",
   "id": "0b88411c-a627-47d9-a669-fc2343d6955b",
   "metadata": {},
   "source": [
    "- Χρήση Cauchy συνάρτησης ακτινικού τύπου"
   ]
  },
  {
   "cell_type": "code",
   "execution_count": 18,
   "id": "5832b363-b02a-492f-8519-a40e3041e33d",
   "metadata": {
    "scrolled": true,
    "tags": []
   },
   "outputs": [
    {
     "name": "stdout",
     "output_type": "stream",
     "text": [
      "[RBF NN with Cauchy function, random center selection and 10 centers]\n",
      "Total training time = 2.8702\n",
      "Train accuracy = 0.5693\n",
      "Train error = 8.0545\n",
      "Test accuracy = 0.5734\n",
      "Test error = 7.8713\n",
      "\n",
      "[RBF NN with Cauchy function, random center selection and 25 centers]\n",
      "Total training time = 7.2021\n",
      "Train accuracy = 0.7245\n",
      "Train error = 4.8759\n",
      "Test accuracy = 0.7345\n",
      "Test error = 4.7640\n",
      "\n",
      "[RBF NN with Cauchy function, random center selection and 50 centers]\n",
      "Total training time = 14.7748\n",
      "Train accuracy = 0.7759\n",
      "Train error = 4.2339\n",
      "Test accuracy = 0.7809\n",
      "Test error = 4.1021\n",
      "\n",
      "[RBF NN with Cauchy function, random center selection and 75 centers]\n",
      "Total training time = 22.0696\n",
      "Train accuracy = 0.7960\n",
      "Train error = 3.7134\n",
      "Test accuracy = 0.7992\n",
      "Test error = 3.7262\n",
      "\n",
      "[RBF NN with Cauchy function, random center selection and 100 centers]\n",
      "Total training time = 29.6184\n",
      "Train accuracy = 0.7910\n",
      "Train error = 3.7508\n",
      "Test accuracy = 0.8021\n",
      "Test error = 3.5074\n",
      "\n"
     ]
    }
   ],
   "source": [
    "n_of_centers = [10,25,50,75,100]\n",
    "\n",
    "for n in n_of_centers:\n",
    "    nn = RBF_NN(RBF_function = \"cauchy\",center_select = \"random\", n_of_centers=n)\n",
    "    \n",
    "    print(\"[RBF NN with Cauchy function, random center selection and %d centers]\" %n)\n",
    "    preds = nn.fit(train_x,train_y)\n",
    "    train_acc = accuracy(train_y,preds)\n",
    "    train_error = MSE(train_y,preds)\n",
    "    print('Train accuracy = %.4f' % train_acc)\n",
    "    print('Train error = %.4f' % train_error)\n",
    "        \n",
    "    predictions = nn.predict(test_x)\n",
    "    test_acc = accuracy(test_y,predictions)\n",
    "    test_error = MSE(test_y,predictions)\n",
    "    print('Test accuracy = %.4f' % test_acc)\n",
    "    print('Test error = %.4f\\n' % test_error)"
   ]
  },
  {
   "cell_type": "markdown",
   "id": "d6757ac8-cea4-425c-919f-6a7d1ada1aba",
   "metadata": {},
   "source": [
    "<font size=\"4.5\">**β. Αρχικοποίηση κέντρων με χρήση μέσης τιμής εικόνων για κάθε ετικέτα**</font>"
   ]
  },
  {
   "cell_type": "markdown",
   "id": "a283a7f5-a7fa-466a-ab2d-e9449cec5391",
   "metadata": {},
   "source": [
    "- Χρήση Gauss συνάρτησης ακτινικού τύπου "
   ]
  },
  {
   "cell_type": "code",
   "execution_count": 59,
   "id": "69ff4c88-ef2c-407e-81d5-7c6ac269dfb5",
   "metadata": {
    "scrolled": true,
    "tags": []
   },
   "outputs": [
    {
     "name": "stdout",
     "output_type": "stream",
     "text": [
      "[RBF NN with Gaussian function, center selection from mean of all images with the same label and 10 centers]\n",
      "Total training time = 5.2749\n",
      "Train accuracy = 0.7764\n",
      "Train error = 3.3739\n",
      "Test accuracy = 0.7886\n",
      "Test error = 3.3147\n",
      "\n",
      "[RBF NN with Gaussian function, center selection from mean of all images with the same label and 25 centers]\n",
      "Total training time = 12.5314\n",
      "Train accuracy = 0.7759\n",
      "Train error = 3.2830\n",
      "Test accuracy = 0.7879\n",
      "Test error = 3.2623\n",
      "\n",
      "[RBF NN with Gaussian function, center selection from mean of all images with the same label and 50 centers]\n",
      "Total training time = 24.8196\n",
      "Train accuracy = 0.7753\n",
      "Train error = 3.2853\n",
      "Test accuracy = 0.7870\n",
      "Test error = 3.2537\n",
      "\n",
      "[RBF NN with Gaussian function, center selection from mean of all images with the same label and 75 centers]\n",
      "Total training time = 37.7454\n",
      "Train accuracy = 0.5291\n",
      "Train error = 5.6386\n",
      "Test accuracy = 0.5296\n",
      "Test error = 5.5987\n",
      "\n",
      "[RBF NN with Gaussian function, center selection from mean of all images with the same label and 100 centers]\n",
      "Total training time = 50.5365\n",
      "Train accuracy = 0.2109\n",
      "Train error = 14.9028\n",
      "Test accuracy = 0.2090\n",
      "Test error = 14.7210\n",
      "\n"
     ]
    }
   ],
   "source": [
    "n_of_centers = [10,25,50,75,100]\n",
    "\n",
    "for n in n_of_centers:\n",
    "    nn = RBF_NN(RBF_function = \"gaussian\",center_select = \"mean\", n_of_centers=n)\n",
    "    \n",
    "    print(\"[RBF NN with Gaussian function, center selection from mean of all images with the same label and %d centers]\" %n)\n",
    "    preds = nn.fit(train_x,train_y)\n",
    "    train_acc = accuracy(train_y,preds)\n",
    "    train_error = MSE(train_y,preds)\n",
    "    print('Train accuracy = %.4f' % train_acc)\n",
    "    print('Train error = %.4f' % train_error)\n",
    "        \n",
    "    predictions = nn.predict(test_x)\n",
    "    test_acc = accuracy(test_y,predictions)\n",
    "    test_error = MSE(test_y,predictions)\n",
    "    print('Test accuracy = %.4f' % test_acc)\n",
    "    print('Test error = %.4f\\n' % test_error)"
   ]
  },
  {
   "cell_type": "markdown",
   "id": "89e8f320-ef90-41ad-9818-59bd166e846f",
   "metadata": {},
   "source": [
    "- Χρήση αντίστροφης πολυτετραγωνικής συνάρτησης ακτινικού τύπου"
   ]
  },
  {
   "cell_type": "code",
   "execution_count": 60,
   "id": "fbbcad5e-4fcb-4400-8d18-7ed83445fcfa",
   "metadata": {
    "scrolled": true,
    "tags": []
   },
   "outputs": [
    {
     "name": "stdout",
     "output_type": "stream",
     "text": [
      "[RBF NN with inverse multiquadrics function, center selection from mean of all images with the same label and 10 centers]\n",
      "Total training time = 5.3063\n",
      "Train accuracy = 0.8132\n",
      "Train error = 3.4304\n",
      "Test accuracy = 0.8216\n",
      "Test error = 3.3116\n",
      "\n",
      "[RBF NN with inverse multiquadrics function, center selection from mean of all images with the same label and 25 centers]\n",
      "Total training time = 12.6241\n",
      "Train accuracy = 0.8127\n",
      "Train error = 3.4349\n",
      "Test accuracy = 0.8213\n",
      "Test error = 3.3248\n",
      "\n",
      "[RBF NN with inverse multiquadrics function, center selection from mean of all images with the same label and 50 centers]\n",
      "Total training time = 25.3277\n",
      "Train accuracy = 0.8125\n",
      "Train error = 3.4280\n",
      "Test accuracy = 0.8211\n",
      "Test error = 3.3346\n",
      "\n",
      "[RBF NN with inverse multiquadrics function, center selection from mean of all images with the same label and 75 centers]\n",
      "Total training time = 38.1695\n",
      "Train accuracy = 0.8124\n",
      "Train error = 3.4280\n",
      "Test accuracy = 0.8208\n",
      "Test error = 3.3504\n",
      "\n",
      "[RBF NN with inverse multiquadrics function, center selection from mean of all images with the same label and 100 centers]\n",
      "Total training time = 51.7233\n",
      "Train accuracy = 0.8124\n",
      "Train error = 3.4273\n",
      "Test accuracy = 0.8208\n",
      "Test error = 3.3504\n",
      "\n"
     ]
    }
   ],
   "source": [
    "n_of_centers = [10,25,50,75,100]\n",
    "\n",
    "for n in n_of_centers:\n",
    "    nn = RBF_NN(RBF_function = \"inverse multiquadrics\",center_select = \"mean\", n_of_centers=n)\n",
    "    \n",
    "    print(\"[RBF NN with inverse multiquadrics function, center selection from mean of all images with the same label and %d centers]\" %n)\n",
    "    preds = nn.fit(train_x,train_y)\n",
    "    train_acc = accuracy(train_y,preds)\n",
    "    train_error = MSE(train_y,preds)\n",
    "    print('Train accuracy = %.4f' % train_acc)\n",
    "    print('Train error = %.4f' % train_error)\n",
    "        \n",
    "    predictions = nn.predict(test_x)\n",
    "    test_acc = accuracy(test_y,predictions)\n",
    "    test_error = MSE(test_y,predictions)\n",
    "    print('Test accuracy = %.4f' % test_acc)\n",
    "    print('Test error = %.4f\\n' % test_error)"
   ]
  },
  {
   "cell_type": "markdown",
   "id": "c4c67d96-f6d9-4b14-a062-49d07ce8f13d",
   "metadata": {},
   "source": [
    "- Χρήση Cauchy συνάρτησης ακτινικού τύπου\n"
   ]
  },
  {
   "cell_type": "code",
   "execution_count": 62,
   "id": "f97f9f94-d998-45fe-a5a9-e8b0cf098d4b",
   "metadata": {
    "scrolled": true,
    "tags": []
   },
   "outputs": [
    {
     "name": "stdout",
     "output_type": "stream",
     "text": [
      "[RBF NN with Cauchy function, center selection from mean of all images with the same label and 10 centers]\n",
      "Total training time = 4.9259 s\n",
      "Train accuracy = 0.8092\n",
      "Train error = 3.5088\n",
      "Test accuracy = 0.8169\n",
      "Test error = 3.4535\n",
      "\n",
      "[RBF NN with Cauchy function, center selection from mean of all images with the same label and 25 centers]\n",
      "Total training time = 12.3581 s\n",
      "Train accuracy = 0.8082\n",
      "Train error = 3.5324\n",
      "Test accuracy = 0.8154\n",
      "Test error = 3.4854\n",
      "\n",
      "[RBF NN with Cauchy function, center selection from mean of all images with the same label and 50 centers]\n",
      "Total training time = 23.9154 s\n",
      "Train accuracy = 0.8077\n",
      "Train error = 3.5437\n",
      "Test accuracy = 0.8149\n",
      "Test error = 3.4980\n",
      "\n",
      "[RBF NN with Cauchy function, center selection from mean of all images with the same label and 75 centers]\n",
      "Total training time = 35.9213 s\n",
      "Train accuracy = 0.8075\n",
      "Train error = 3.5515\n",
      "Test accuracy = 0.8147\n",
      "Test error = 3.5045\n",
      "\n",
      "[RBF NN with Cauchy function, center selection from mean of all images with the same label and 100 centers]\n",
      "Total training time = 47.2382 s\n",
      "Train accuracy = 0.8073\n",
      "Train error = 3.5544\n",
      "Test accuracy = 0.8144\n",
      "Test error = 3.5060\n",
      "\n"
     ]
    }
   ],
   "source": [
    "n_of_centers = [10,25,50,75,100]\n",
    "\n",
    "for n in n_of_centers:\n",
    "    nn = RBF_NN(RBF_function = \"cauchy\",center_select = \"mean\", n_of_centers=n)\n",
    "    \n",
    "    print(\"[RBF NN with Cauchy function, center selection from mean of all images with the same label and %d centers]\" %n)\n",
    "    preds = nn.fit(train_x,train_y)\n",
    "    train_acc = accuracy(train_y,preds)\n",
    "    train_error = MSE(train_y,preds)\n",
    "    print('Train accuracy = %.4f' % train_acc)\n",
    "    print('Train error = %.4f' % train_error)\n",
    "        \n",
    "    predictions = nn.predict(test_x)\n",
    "    test_acc = accuracy(test_y,predictions)\n",
    "    test_error = MSE(test_y,predictions)\n",
    "    print('Test accuracy = %.4f' % test_acc)\n",
    "    print('Test error = %.4f\\n' % test_error)"
   ]
  },
  {
   "cell_type": "markdown",
   "id": "8a2fa3b4-755c-4cb0-81ff-ded828b034cb",
   "metadata": {},
   "source": [
    "<font size=\"4.5\">**γ. Αρχικοποίηση κέντρων με χρήση του αλγορίθμου k-means**</font>"
   ]
  },
  {
   "cell_type": "markdown",
   "id": "3b9d90e7-1d38-4c74-ad1e-ed96fd15e293",
   "metadata": {},
   "source": [
    "- Χρήση Gauss συνάρτησης ακτινικού τύπου "
   ]
  },
  {
   "cell_type": "code",
   "execution_count": 63,
   "id": "ac9750c0-246c-45ed-9fd0-e4ea61aea02d",
   "metadata": {
    "scrolled": true,
    "tags": []
   },
   "outputs": [
    {
     "name": "stdout",
     "output_type": "stream",
     "text": [
      "[RBF NN with Gaussian function, center selection from k-means algorithm and 10 centers]\n",
      "Total training time = 34.1989 s\n",
      "Train accuracy = 0.6038\n",
      "Train error = 5.9469\n",
      "Test accuracy = 0.6088\n",
      "Test error = 5.8147\n",
      "\n",
      "[RBF NN with Gaussian function, center selection from k-means algorithm and 25 centers]\n",
      "Total training time = 57.7669 s\n",
      "Train accuracy = 0.7370\n",
      "Train error = 4.2536\n",
      "Test accuracy = 0.7452\n",
      "Test error = 4.1847\n",
      "\n",
      "[RBF NN with Gaussian function, center selection from k-means algorithm and 50 centers]\n",
      "Total training time = 94.1579 s\n",
      "Train accuracy = 0.8027\n",
      "Train error = 3.6636\n",
      "Test accuracy = 0.8087\n",
      "Test error = 3.6829\n",
      "\n",
      "[RBF NN with Gaussian function, center selection from k-means algorithm and 75 centers]\n",
      "Total training time = 131.2287 s\n",
      "Train accuracy = 0.8359\n",
      "Train error = 2.9682\n",
      "Test accuracy = 0.8426\n",
      "Test error = 2.9543\n",
      "\n",
      "[RBF NN with Gaussian function, center selection from k-means algorithm and 100 centers]\n",
      "Total training time = 150.3260 s\n",
      "Train accuracy = 0.8547\n",
      "Train error = 2.3896\n",
      "Test accuracy = 0.8619\n",
      "Test error = 2.3437\n",
      "\n"
     ]
    }
   ],
   "source": [
    "n_of_centers = [10,25,50,75,100]\n",
    "\n",
    "for n in n_of_centers:\n",
    "    nn = RBF_NN(RBF_function = \"gaussian\",center_select = \"kmeans\", n_of_centers=n)\n",
    "    \n",
    "    print(\"[RBF NN with Gaussian function, center selection from k-means algorithm and %d centers]\" %n)\n",
    "    preds = nn.fit(train_x,train_y)\n",
    "    train_acc = accuracy(train_y,preds)\n",
    "    train_error = MSE(train_y,preds)\n",
    "    print('Train accuracy = %.4f' % train_acc)\n",
    "    print('Train error = %.4f' % train_error)\n",
    "        \n",
    "    predictions = nn.predict(test_x)\n",
    "    test_acc = accuracy(test_y,predictions)\n",
    "    test_error = MSE(test_y,predictions)\n",
    "    print('Test accuracy = %.4f' % test_acc)\n",
    "    print('Test error = %.4f\\n' % test_error)"
   ]
  },
  {
   "cell_type": "markdown",
   "id": "ee6f63e3-b2ef-4ff1-8f87-57c70cf6e288",
   "metadata": {},
   "source": [
    "- Χρήση αντίστροφης πολυτετραγωνικής συνάρτησης ακτινικού τύπου"
   ]
  },
  {
   "cell_type": "code",
   "execution_count": 64,
   "id": "c057a0a9-ba96-4e08-8d2d-e8e11bd58abe",
   "metadata": {
    "scrolled": true,
    "tags": []
   },
   "outputs": [
    {
     "name": "stdout",
     "output_type": "stream",
     "text": [
      "[RBF NN with inverse multiquadrics function, center selection from k-means algorithm and 10 centers]\n",
      "Total training time = 32.3766 s\n",
      "Train accuracy = 0.6264\n",
      "Train error = 6.1969\n",
      "Test accuracy = 0.6345\n",
      "Test error = 5.9534\n",
      "\n",
      "[RBF NN with inverse multiquadrics function, center selection from k-means algorithm and 25 centers]\n",
      "Total training time = 53.3204 s\n",
      "Train accuracy = 0.8054\n",
      "Train error = 3.6033\n",
      "Test accuracy = 0.8096\n",
      "Test error = 3.6431\n",
      "\n",
      "[RBF NN with inverse multiquadrics function, center selection from k-means algorithm and 50 centers]\n",
      "Total training time = 86.6175 s\n",
      "Train accuracy = 0.8769\n",
      "Train error = 2.2912\n",
      "Test accuracy = 0.8829\n",
      "Test error = 2.2579\n",
      "\n",
      "[RBF NN with inverse multiquadrics function, center selection from k-means algorithm and 75 centers]\n",
      "Total training time = 131.9787 s\n",
      "Train accuracy = 0.9019\n",
      "Train error = 1.7939\n",
      "Test accuracy = 0.9091\n",
      "Test error = 1.7419\n",
      "\n",
      "[RBF NN with inverse multiquadrics function, center selection from k-means algorithm and 100 centers]\n",
      "Total training time = 165.1600 s\n",
      "Train accuracy = 0.9125\n",
      "Train error = 1.5471\n",
      "Test accuracy = 0.9175\n",
      "Test error = 1.5367\n",
      "\n"
     ]
    }
   ],
   "source": [
    "n_of_centers = [10,25,50,75,100]\n",
    "\n",
    "for n in n_of_centers:\n",
    "    nn = RBF_NN(RBF_function = \"inverse multiquadrics\",center_select = \"kmeans\", n_of_centers=n)\n",
    "    \n",
    "    print(\"[RBF NN with inverse multiquadrics function, center selection from k-means algorithm and %d centers]\" %n)\n",
    "    preds = nn.fit(train_x,train_y)\n",
    "    train_acc = accuracy(train_y,preds)\n",
    "    train_error = MSE(train_y,preds)\n",
    "    print('Train accuracy = %.4f' % train_acc)\n",
    "    print('Train error = %.4f' % train_error)\n",
    "        \n",
    "    predictions = nn.predict(test_x)\n",
    "    test_acc = accuracy(test_y,predictions)\n",
    "    test_error = MSE(test_y,predictions)\n",
    "    print('Test accuracy = %.4f' % test_acc)\n",
    "    print('Test error = %.4f\\n' % test_error)"
   ]
  },
  {
   "cell_type": "markdown",
   "id": "39f6d3e5-2e71-408c-971c-3df307612efc",
   "metadata": {},
   "source": [
    "- Χρήση Cauchy συνάρτησης ακτινικού τύπου"
   ]
  },
  {
   "cell_type": "code",
   "execution_count": 65,
   "id": "d1a0da9f-f160-46a3-a5fe-af34b3c173e9",
   "metadata": {
    "scrolled": true,
    "tags": []
   },
   "outputs": [
    {
     "name": "stdout",
     "output_type": "stream",
     "text": [
      "[RBF NN with Cauchy function, center selection from k-means algorithm and 10 centers]\n",
      "Total training time = 36.5752 s\n",
      "Train accuracy = 0.6211\n",
      "Train error = 6.2975\n",
      "Test accuracy = 0.6274\n",
      "Test error = 6.0762\n",
      "\n",
      "[RBF NN with Cauchy function, center selection from k-means algorithm and 25 centers]\n",
      "Total training time = 55.5698 s\n",
      "Train accuracy = 0.7992\n",
      "Train error = 3.5917\n",
      "Test accuracy = 0.8070\n",
      "Test error = 3.6355\n",
      "\n",
      "[RBF NN with Cauchy function, center selection from k-means algorithm and 50 centers]\n",
      "Total training time = 93.5927 s\n",
      "Train accuracy = 0.8536\n",
      "Train error = 2.7576\n",
      "Test accuracy = 0.8597\n",
      "Test error = 2.8095\n",
      "\n",
      "[RBF NN with Cauchy function, center selection from k-means algorithm and 75 centers]\n",
      "Total training time = 122.1944 s\n",
      "Train accuracy = 0.8915\n",
      "Train error = 1.9855\n",
      "Test accuracy = 0.8969\n",
      "Test error = 2.0183\n",
      "\n",
      "[RBF NN with Cauchy function, center selection from k-means algorithm and 100 centers]\n",
      "Total training time = 158.8771 s\n",
      "Train accuracy = 0.9123\n",
      "Train error = 1.5544\n",
      "Test accuracy = 0.9150\n",
      "Test error = 1.6052\n",
      "\n"
     ]
    }
   ],
   "source": [
    "n_of_centers = [10,25,50,75,100]\n",
    "\n",
    "for n in n_of_centers:\n",
    "    nn = RBF_NN(RBF_function = \"cauchy\",center_select = \"kmeans\", n_of_centers=n)\n",
    "    \n",
    "    print(\"[RBF NN with Cauchy function, center selection from k-means algorithm and %d centers]\" %n)\n",
    "    preds = nn.fit(train_x,train_y)\n",
    "    train_acc = accuracy(train_y,preds)\n",
    "    train_error = MSE(train_y,preds)\n",
    "    print('Train accuracy = %.4f' % train_acc)\n",
    "    print('Train error = %.4f' % train_error)\n",
    "        \n",
    "    predictions = nn.predict(test_x)\n",
    "    test_acc = accuracy(test_y,predictions)\n",
    "    test_error = MSE(test_y,predictions)\n",
    "    print('Test accuracy = %.4f' % test_acc)\n",
    "    print('Test error = %.4f\\n' % test_error)"
   ]
  },
  {
   "cell_type": "markdown",
   "id": "4d7a613b-ce13-421a-83f9-f3c7ed6d097c",
   "metadata": {},
   "source": [
    "# 4. Χρήση νευρωνικού δικτύου με μείωση διάστασης\n",
    "***"
   ]
  },
  {
   "cell_type": "markdown",
   "id": "3b05a777-ba65-41c9-b6e4-2ce0ed90f076",
   "metadata": {},
   "source": [
    "Θα δοκιμαστούν δύο μέθοδοι μείωσης διάστασης, ο αλγόριθμος PCA και η χρήση μέσης φωτεινότητας. Για τις δοκιμές αυτές θα χρησιμοποιηθεί η αντρίστροφη πολυτετραγωνική συνάρτηση ακτινικού τύπου, τα κέντρα θα αρχικοποιηθούν με την μέση τιμής εικόνων για κάθε ετικέτα και για 10 κέντρα, καθώς για την παραπάνω επιλογή είχαμε ικανοποιητικά αποτελέσματα στο πλήρες dataset"
   ]
  },
  {
   "cell_type": "markdown",
   "id": "1ff4805d-0c7a-422b-870c-b162eff5de30",
   "metadata": {},
   "source": [
    "<font size=\"4.5\">**α. Μείωση χαρακτηριστικών με χρήση μέσης φωτεινότητας σειράς**</font>"
   ]
  },
  {
   "cell_type": "code",
   "execution_count": 85,
   "id": "473a60dc-2de5-491d-9c56-60fa58b55a94",
   "metadata": {},
   "outputs": [],
   "source": [
    "train = pd.read_csv('./data/mnist_train.csv').to_numpy()\n",
    "test = pd.read_csv('./data/mnist_test.csv').to_numpy()\n",
    "\n",
    "train_x, train_y = train[:,1:], train[:,0]\n",
    "test_x, test_y = test[:,1:], test[:,0]\n",
    "\n",
    "#find mean of each row\n",
    "train_x = np.mean(train_x.reshape(28,28,60000), axis=1)\n",
    "test_x = np.mean(test_x.reshape(28,28,10000), axis=1)\n",
    "\n",
    "#normalize data\n",
    "train_x = train_x/255\n",
    "train_x = train_x.T\n",
    "test_x = test_x/255\n",
    "test_x = test_x.T"
   ]
  },
  {
   "cell_type": "code",
   "execution_count": 86,
   "id": "d1cb1a6c-8b9c-475b-bf69-92a658de688c",
   "metadata": {},
   "outputs": [
    {
     "name": "stdout",
     "output_type": "stream",
     "text": [
      "[RBF NN with inverse multiquadrics function, center selection from mean of all images with the same label and 10 centers]\n",
      "Total training time = 4.1858 s\n",
      "Train accuracy = 0.1150\n",
      "Train error = 18.2482\n",
      "Test accuracy = 0.1085\n",
      "Test error = 18.1248\n",
      "\n"
     ]
    }
   ],
   "source": [
    "nn = RBF_NN(RBF_function = \"inverse multiquadrics\",center_select = \"mean\", n_of_centers=10)\n",
    "print(\"[RBF NN with inverse multiquadrics function, center selection from mean of all images with the same label and 10 centers]\")\n",
    "preds = nn.fit(train_x,train_y)\n",
    "train_acc = accuracy(train_y,preds)\n",
    "train_error = MSE(train_y,preds)\n",
    "print('Train accuracy = %.4f' % train_acc)\n",
    "print('Train error = %.4f' % train_error)\n",
    "\n",
    "predictions = nn.predict(test_x)\n",
    "test_acc = accuracy(test_y,predictions)\n",
    "test_error = MSE(test_y,predictions)\n",
    "print('Test accuracy = %.4f' % test_acc)\n",
    "print('Test error = %.4f\\n' % test_error)"
   ]
  },
  {
   "cell_type": "markdown",
   "id": "114ae7f3-c273-450a-81b8-524bfcaddfc3",
   "metadata": {},
   "source": [
    "<font size=\"4.5\">**β. Μείωση χαρακτηριστικών με χρήση του αλγορίθμου PCA**</font>"
   ]
  },
  {
   "cell_type": "code",
   "execution_count": 3,
   "id": "d6995275-aae3-4041-b9af-5b330ae6a2ba",
   "metadata": {},
   "outputs": [],
   "source": [
    "train = pd.read_csv('./data/mnist_train.csv').to_numpy()\n",
    "test = pd.read_csv('./data/mnist_test.csv').to_numpy()\n",
    "\n",
    "train_x, train_y = train[:,1:], train[:,0]\n",
    "test_x, test_y = test[:,1:], test[:,0]"
   ]
  },
  {
   "cell_type": "code",
   "execution_count": 4,
   "id": "2f46b680-4a02-4bc9-bab2-b96e6620b1cd",
   "metadata": {},
   "outputs": [],
   "source": [
    "def PCA(X,k):\n",
    "    #Standardize the data\n",
    "    X = (X - X.mean()) / X.std(ddof=0)\n",
    "\n",
    "    # Calculating the correlation matrix of the data\n",
    "    X_cov = np.dot(X, X.T)\n",
    "\n",
    "    #Calculate eigenvalues and eigenvectors of the data\n",
    "    eig_values, eig_vectors = np.linalg.eig(X_cov)\n",
    "\n",
    "    #sort eigenvalues and eigenvectors\n",
    "    ind = np.argsort(eig_values)[::-1]\n",
    "    eig_values_sorted = eig_values[ind]\n",
    "    eig_vectors_sorted = eig_vectors[:,ind]\n",
    "    eig_vectors_subset = eig_vectors_sorted[:,0:k]\n",
    "    total_explained_variance = np.sum(eig_values_sorted[0:k],axis=0).real\n",
    "    X_reduced = np.dot(eig_vectors_subset.T , X)\n",
    "    return X_reduced, total_explained_variance"
   ]
  },
  {
   "cell_type": "code",
   "execution_count": 20,
   "id": "053c58f4-45dd-44f8-a571-cfd9b26f7f3f",
   "metadata": {},
   "outputs": [
    {
     "data": {
      "image/png": "[encoded data removed]",
      "text/plain": [
       "<Figure size 640x480 with 1 Axes>"
      ]
     },
     "metadata": {},
     "output_type": "display_data"
    }
   ],
   "source": [
    "# find the appropriate number of extracted features \n",
    "num_of_features = np.arange(5,200,5)\n",
    "exp_var = []\n",
    "for k in num_of_features:\n",
    "    _,var = PCA(train_x.T,k)\n",
    "    exp_var.append(var)\n",
    "plt.plot(num_of_features,exp_var)\n",
    "plt.title('Total explained variance for different number of extracted features')\n",
    "plt.ylabel('Explained variance')\n",
    "plt.xlabel('Number of features')\n",
    "plt.grid()\n",
    "plt.show()"
   ]
  },
  {
   "cell_type": "code",
   "execution_count": 15,
   "id": "f0032fc3-b4e4-4a4f-bbda-4279e9923b3a",
   "metadata": {},
   "outputs": [
    {
     "name": "stdout",
     "output_type": "stream",
     "text": [
      "[RBF NN with inverse multiquadrics function, center selection from mean of all images with the same label and 10 centers]\n"
     ]
    },
    {
     "name": "stderr",
     "output_type": "stream",
     "text": [
      "C:/Users/chris/AppData/Local/Temp/xpython_7896/2530496272.py:90: ComplexWarning: Casting complex values to real discards the imaginary part\n",
      "  means[i,:] = np.mean(X[idx,:],axis = 0)\n",
      "C:/Users/chris/AppData/Local/Temp/xpython_7896/2530496272.py:90: ComplexWarning: Casting complex values to real discards the imaginary part\n",
      "  means[i,:] = np.mean(X[idx,:],axis = 0)\n",
      "C:/Users/chris/AppData/Local/Temp/xpython_7896/2530496272.py:90: ComplexWarning: Casting complex values to real discards the imaginary part\n",
      "  means[i,:] = np.mean(X[idx,:],axis = 0)\n",
      "C:/Users/chris/AppData/Local/Temp/xpython_7896/2530496272.py:90: ComplexWarning: Casting complex values to real discards the imaginary part\n",
      "  means[i,:] = np.mean(X[idx,:],axis = 0)\n",
      "C:/Users/chris/AppData/Local/Temp/xpython_7896/2530496272.py:90: ComplexWarning: Casting complex values to real discards the imaginary part\n",
      "  means[i,:] = np.mean(X[idx,:],axis = 0)\n",
      "C:/Users/chris/AppData/Local/Temp/xpython_7896/2530496272.py:90: ComplexWarning: Casting complex values to real discards the imaginary part\n",
      "  means[i,:] = np.mean(X[idx,:],axis = 0)\n"
     ]
    },
    {
     "name": "stdout",
     "output_type": "stream",
     "text": [
      "Total training time = 7.3255 s\n",
      "Train accuracy = 0.8127\n",
      "Train error = 3.4393\n",
      "Test accuracy = 0.1005\n",
      "Test error = 16.9560\n",
      "\n"
     ]
    }
   ],
   "source": [
    "k = 125\n",
    "train_x_PCA,_ = PCA(train_x.T,k)\n",
    "test_x_PCA,_ = PCA(test_x.T,k)\n",
    "\n",
    "train_X = train_x_PCA.T\n",
    "test_X = test_x_PCA.T\n",
    "\n",
    "nn = RBF_NN(RBF_function = \"inverse multiquadrics\",center_select = \"mean\", n_of_centers=10)\n",
    "print(\"[RBF NN with inverse multiquadrics function, center selection from mean of all images with the same label and 10 centers]\")\n",
    "preds = nn.fit(train_X,train_y)\n",
    "train_acc = accuracy(train_y,preds)\n",
    "train_error = MSE(train_y,preds)\n",
    "print('Train accuracy = %.4f' % train_acc)\n",
    "print('Train error = %.4f' % train_error)\n",
    "\n",
    "predictions = nn.predict(test_X)\n",
    "test_acc = accuracy(test_y,predictions)\n",
    "test_error = MSE(test_y,predictions)\n",
    "print('Test accuracy = %.4f' % test_acc)\n",
    "print('Test error = %.4f\\n' % test_error)"
   ]
  }
 ],
 "metadata": {
  "kernelspec": {
   "display_name": "Python 3.10 (XPython)",
   "language": "python",
   "name": "xpython"
  },
  "language_info": {
   "file_extension": ".py",
   "mimetype": "text/x-python",
   "name": "python",
   "version": "3.10.6"
  }
 },
 "nbformat": 4,
 "nbformat_minor": 5
}
