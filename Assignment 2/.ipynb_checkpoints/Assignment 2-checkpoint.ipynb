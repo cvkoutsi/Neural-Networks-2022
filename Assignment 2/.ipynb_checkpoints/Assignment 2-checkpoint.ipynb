{
 "cells": [
  {
   "cell_type": "code",
   "execution_count": 1,
   "id": "131b3596-0b50-4b44-93e7-12b55c00afd7",
   "metadata": {},
   "outputs": [],
   "source": [
    "import pandas as pd\n",
    "import numpy as np\n",
    "import matplotlib.pyplot as plt\n",
    "import time\n",
    "from sklearn.svm import SVC\n",
    "from sklearn import metrics\n"
   ]
  },
  {
   "cell_type": "code",
   "execution_count": 3,
   "id": "d7767377-7317-40b7-9826-f98fff96e47e",
   "metadata": {},
   "outputs": [
    {
     "name": "stdout",
     "output_type": "stream",
     "text": [
      "   label  1x1  1x2  1x3  1x4  1x5  1x6  1x7  1x8  1x9  ...  28x19  28x20  \\\n",
      "0      5    0    0    0    0    0    0    0    0    0  ...      0      0   \n",
      "1      0    0    0    0    0    0    0    0    0    0  ...      0      0   \n",
      "2      4    0    0    0    0    0    0    0    0    0  ...      0      0   \n",
      "3      1    0    0    0    0    0    0    0    0    0  ...      0      0   \n",
      "4      9    0    0    0    0    0    0    0    0    0  ...      0      0   \n",
      "\n",
      "   28x21  28x22  28x23  28x24  28x25  28x26  28x27  28x28  \n",
      "0      0      0      0      0      0      0      0      0  \n",
      "1      0      0      0      0      0      0      0      0  \n",
      "2      0      0      0      0      0      0      0      0  \n",
      "3      0      0      0      0      0      0      0      0  \n",
      "4      0      0      0      0      0      0      0      0  \n",
      "\n",
      "[5 rows x 785 columns]\n"
     ]
    }
   ],
   "source": [
    "train = pd.read_csv('./data/mnist_train.csv')\n",
    "test = pd.read_csv('./data/mnist_test.csv')\n",
    "\n",
    "print(train.head())\n",
    "\n",
    "train= train.to_numpy()\n",
    "test= test.to_numpy()\n",
    "\n",
    "train_x, train_y = train[:,1:], train[:,0]\n",
    "test_x, test_y = test[:,1:], test[:,0]\n",
    "\n",
    "#normalize data\n",
    "train_x = train_x/255\n",
    "test_x = test_x/255"
   ]
  },
  {
   "cell_type": "markdown",
   "id": "5a38f0b8-a6f5-4e5d-9dc3-582739b7a6ac",
   "metadata": {},
   "source": [
    "# 1. Χρήση SVM δικτύου χωρίς μείωση διάστασης\n",
    "***\n",
    "Δοκιμή διάφορων εξισώσεων f(x) και σταθερό και μεταβαλλόμενο γάμμα. "
   ]
  },
  {
   "cell_type": "markdown",
   "id": "eda3ef5a-cf26-4f40-a798-9aa22816bf29",
   "metadata": {},
   "source": [
    "i. Χρήση γραμμικής εξίσωσης f(x) και δοκιμή για σταθερό και μεταβαλλόμενο γάμμα.\n",
    "***"
   ]
  },
  {
   "cell_type": "code",
   "execution_count": 3,
   "id": "c1366fa8-c92a-4c1d-8088-e7b6a16dcccc",
   "metadata": {},
   "outputs": [
    {
     "name": "stdout",
     "output_type": "stream",
     "text": [
      "[Linear kernel function, auto gamma] \n",
      " Accuracy: 0.9404 \n",
      "\n",
      "Total run time: 240.1019914150238\n",
      "[Linear kernel function, scale gamma] \n",
      " Accuracy: 0.9404 \n",
      "\n",
      "Total run time: 230.18370270729065\n"
     ]
    }
   ],
   "source": [
    "#linear kernel function\n",
    "\n",
    "## Auto gamma\n",
    "model_linear = SVC(kernel='linear',gamma = 'auto')\n",
    "start = time.time();\n",
    "model_linear.fit(train_x, train_y)\n",
    "\n",
    "# predict\n",
    "pred_y = model_linear.predict(test_x)\n",
    "end = time.time();\n",
    "\n",
    "# accuracy\n",
    "print(\"[Linear kernel function, auto gamma] \\n Accuracy:\", metrics.accuracy_score(y_true=test_y, y_pred=pred_y), \"\\n\")\n",
    "print(\"Total run time:\", end-start);\n",
    "\n",
    "## Scale gamma \n",
    "model_linear = SVC(kernel='linear',gamma = 'scale')\n",
    "start = time.time();\n",
    "model_linear.fit(train_x, train_y)\n",
    "\n",
    "# predict\n",
    "pred_y = model_linear.predict(test_x)\n",
    "end = time.time();\n",
    "\n",
    "# accuracy\n",
    "print(\"[Linear kernel function, scale gamma] \\n Accuracy:\", metrics.accuracy_score(y_true=test_y, y_pred=pred_y), \"\\n\")\n",
    "print(\"Total run time:\", end-start);"
   ]
  },
  {
   "cell_type": "markdown",
   "id": "3fe7fecb-63c9-42e8-9034-c0f948de47f2",
   "metadata": {},
   "source": [
    "**Παρατήρηση** : Παρατηρώ ότη η χρήση μεταβαλλόμενου γάμμα δεν επιφέρει μεγάλη βελτίωση στην απόδοση. Παρόλα αυτά μειώνει τον χρόνο εκτέλεσης κατά 10 δευτερόλεπτα\n"
   ]
  },
  {
   "cell_type": "markdown",
   "id": "d3a1a821-c253-4ae2-b930-8721c132e942",
   "metadata": {},
   "source": [
    "ii.Χρήση πολυωνυμικής εξίσωσης f(x) και δοκιμή για σταθερό και μεταβαλλόμενο γάμμα. \n",
    "***"
   ]
  },
  {
   "cell_type": "code",
   "execution_count": 5,
   "id": "6cb10c52-1f00-42fe-a1fe-3da2e42f5d51",
   "metadata": {},
   "outputs": [
    {
     "name": "stdout",
     "output_type": "stream",
     "text": [
      "[Polynomial kernel function, degree =  3 , auto gamma] \n",
      " Accuracy: 0.5867 \n",
      "\n",
      "Total run time: 2578.509476184845\n",
      "[Polynomial kernel function, degree =  3 , scale gamma] \n",
      " Accuracy: 0.9771 \n",
      "\n",
      "Total run time: 182.7903187274933\n",
      "[Polynomial kernel function, degree =  5 , auto gamma] \n",
      " Accuracy: 0.1135 \n",
      "\n",
      "Total run time: 2609.3393330574036\n",
      "[Polynomial kernel function, degree =  5 , scale gamma] \n",
      " Accuracy: 0.9561 \n",
      "\n",
      "Total run time: 294.69640040397644\n",
      "[Polynomial kernel function, degree =  10 , auto gamma] \n",
      " Accuracy: 0.1135 \n",
      "\n",
      "Total run time: 2595.4145317077637\n",
      "[Polynomial kernel function, degree =  10 , scale gamma] \n",
      " Accuracy: 0.8273 \n",
      "\n",
      "Total run time: 704.3185954093933\n"
     ]
    }
   ],
   "source": [
    "# polynomial kernel function with degree = [3,5,10]\n",
    "degree = [3,5,10]\n",
    "\n",
    "for deg in degree: \n",
    "    \n",
    "    ## Auto gamma\n",
    "    model_polynomial = SVC(kernel='poly',gamma = 'auto', degree = deg)\n",
    "    start = time.time();\n",
    "    model_polynomial.fit(train_x, train_y)\n",
    "\n",
    "    # predict\n",
    "    pred_y = model_polynomial.predict(test_x)\n",
    "    end = time.time();\n",
    "\n",
    "    # accuracy\n",
    "    print(\"[Polynomial kernel function, degree = \",deg,\", auto gamma] \\n Accuracy:\", metrics.accuracy_score(y_true=test_y, y_pred=pred_y), \"\\n\")\n",
    "    print(\"Total run time:\", end-start);\n",
    "\n",
    "    ## Scale gamma \n",
    "    model_polynomial = SVC(kernel='poly',gamma = 'scale',degree = deg)\n",
    "    start = time.time();\n",
    "    model_polynomial.fit(train_x, train_y)\n",
    "\n",
    "    # predict\n",
    "    pred_y = model_polynomial.predict(test_x)\n",
    "    end = time.time();\n",
    "\n",
    "    # accuracy\n",
    "    print(\"[Polynomial kernel function, degree = \",deg,\", scale gamma] \\n Accuracy:\", metrics.accuracy_score(y_true=test_y, y_pred=pred_y), \"\\n\")\n",
    "    print(\"Total run time:\", end-start);\n"
   ]
  },
  {
   "cell_type": "markdown",
   "id": "02b8dc73-ab9e-4f2c-97fa-9ab8acf97d42",
   "metadata": {},
   "source": [
    "**Παρατηρήσεις**\n",
    "1) Παρατηρώ ότι την καλύτερη ακρίβεια πετυχαίνουμε όταν χρησιμοποιούμε πολυωνυμική συνάρτηση 3ου βαθμού και μεταβαλλόμενο γάμα.\n",
    "2) Με τις παραπάνω συνθήκες πετυχαίνουμε επιπλέον τον μικρότερο χρόνο εκτέλεσης, σε σύγκριση με τα δίκτυα 5ου και 10ου βαθμού.\n",
    "3) Επιπλέον χρησιμοποιώντας πολυωνυμική συνάρτηση 3ου βαθμού και μεταβαλλόμενο γάμμα πετυχαίνουμε καλύτερη ακρίβεια σε σύγκριση με την χρήση γραμμικής συνάρτησης"
   ]
  },
  {
   "cell_type": "markdown",
   "id": "d71846a1-73b3-4009-abf7-7b858b03329b",
   "metadata": {},
   "source": [
    "iii. Χρήση rbf συνάρτησης (radial basis function) και δοκιμή για σταθερό και μεταβαλλόμενο γάμμα. \n",
    "***"
   ]
  },
  {
   "cell_type": "code",
   "execution_count": 6,
   "id": "2c94e216-d654-427b-92e2-623a40ffd8a4",
   "metadata": {},
   "outputs": [
    {
     "name": "stdout",
     "output_type": "stream",
     "text": [
      "[RBF kernel function, auto gamma] \n",
      " Accuracy: 0.9446 \n",
      "\n",
      "Total run time: 360.70827746391296\n",
      "[RBF kernel function, scale gamma] \n",
      " Accuracy: 0.9792 \n",
      "\n",
      "Total run time: 210.86683416366577\n"
     ]
    }
   ],
   "source": [
    "# rbf kernel function \n",
    "\n",
    "## Auto gamma\n",
    "model_rbf = SVC(kernel='rbf',gamma = 'auto')\n",
    "start = time.time();\n",
    "model_rbf.fit(train_x, train_y)\n",
    "\n",
    "# predict\n",
    "pred_y = model_rbf.predict(test_x)\n",
    "end = time.time();\n",
    "\n",
    "# accuracy\n",
    "print(\"[RBF kernel function, auto gamma] \\n Accuracy:\", metrics.accuracy_score(y_true=test_y, y_pred=pred_y), \"\\n\")\n",
    "print(\"Total run time:\", end-start);\n",
    "\n",
    "## Scale gamma \n",
    "model_rbf = SVC(kernel='rbf',gamma = 'scale')\n",
    "start = time.time();\n",
    "model_rbf.fit(train_x, train_y)\n",
    "\n",
    "# predict\n",
    "pred_y = model_rbf.predict(test_x)\n",
    "end = time.time();\n",
    "\n",
    "# accuracy\n",
    "print(\"[RBF kernel function, scale gamma] \\n Accuracy:\", metrics.accuracy_score(y_true=test_y, y_pred=pred_y), \"\\n\")\n",
    "print(\"Total run time:\", end-start);"
   ]
  },
  {
   "cell_type": "markdown",
   "id": "298f9036-06a0-446f-a817-0a018a07d7f7",
   "metadata": {},
   "source": [
    "**Παρατήρηση** : \n",
    "1) Καλύτερη ακρίβεια και μικρότερο χρόνο εκτέλεσης πετυχαίνουμε χρησιμοποιώντας rbf συνάρτηση με μεταβαλλόμενο γάμμα\n",
    "2) Πετυχαίνουμε την καλύτερη ακρίβεια σε σύγκριση με το δίκτυο που χρησιμοποιεί γραμμική και πολυωνυμική συνάρτηση. Επιπλέον, για μεταβλητό γάμμα πετυχαίνουμε τον ελάχιστο χρόνο εκτέλεσης σε σύγκριση με τα παραπάνω δίκτυα"
   ]
  },
  {
   "cell_type": "markdown",
   "id": "5e952c5e-2d6f-4c23-94ca-15bfb8ca7d52",
   "metadata": {},
   "source": [
    "# 2. Χρήση SVM δικτύου με μείωση διάστασης\n",
    "***\n",
    "Δοκιμή δύο μεθόδων μείωσης διάστασης για γραμμική εξίσωση f(x) και σταθερό γάμμα"
   ]
  },
  {
   "cell_type": "markdown",
   "id": "c8bc4d74-ac36-419d-b591-386efe6b00d0",
   "metadata": {},
   "source": [
    "i. Χρήση μέσης φωτεινότητας σειράς \n",
    "***"
   ]
  },
  {
   "cell_type": "code",
   "execution_count": 8,
   "id": "cb67f1c0-4363-472c-8b54-0d6b9a607e83",
   "metadata": {},
   "outputs": [],
   "source": [
    "train = pd.read_csv('./data/mnist_train.csv').to_numpy()\n",
    "test = pd.read_csv('./data/mnist_test.csv').to_numpy()\n",
    "\n",
    "train_x, train_y = train[:,1:], train[:,0]\n",
    "test_x, test_y = test[:,1:], test[:,0]\n",
    "\n",
    "#find mean of each row\n",
    "train_x = np.mean(train_x.reshape(28,28,60000), axis=1)\n",
    "test_x = np.mean(test_x.reshape(28,28,10000), axis=1)\n",
    "\n",
    "#normalize data\n",
    "train_x = train_x.T/255\n",
    "test_x = test_x.T/255"
   ]
  },
  {
   "cell_type": "code",
   "execution_count": 9,
   "id": "915ea576-8b92-44c2-bace-a5354a14442d",
   "metadata": {},
   "outputs": [
    {
     "name": "stdout",
     "output_type": "stream",
     "text": [
      "[Linear kernel function, auto gamma] \n",
      " Accuracy: 0.1135 \n",
      "\n",
      "Total run time: 261.14490580558777\n"
     ]
    }
   ],
   "source": [
    "model_linear = SVC(kernel='linear',gamma = 'auto')\n",
    "start = time.time();\n",
    "model_linear.fit(train_x, train_y)\n",
    "\n",
    "# predict\n",
    "pred_y = model_linear.predict(test_x)\n",
    "end = time.time();\n",
    "\n",
    "# accuracy\n",
    "print(\"[Linear kernel function, auto gamma] \\n Accuracy:\", metrics.accuracy_score(y_true=test_y, y_pred=pred_y), \"\\n\")\n",
    "print(\"Total run time:\", end-start);"
   ]
  },
  {
   "cell_type": "markdown",
   "id": "8840bc63-a50e-455a-8f31-04440a14361f",
   "metadata": {},
   "source": [
    "**Παρατήρηση**: Πετυχαίνουμε πολύ μικρή ακρίβεια, επομένως μπορούμε να θεωρήσουμε αυτή τη μέθοδο μείωσης διάστασης μη αποδοτική για τον συγκεκριμένο αλγόριθμο και το συγκεκριμένο dataset"
   ]
  },
  {
   "cell_type": "markdown",
   "id": "47025b36-355b-45d6-ad32-32f0eb0a5267",
   "metadata": {},
   "source": [
    "ii. Μείωση Χαρακτηριστικών με τον αλγόριθμο PCA \n",
    "***"
   ]
  },
  {
   "cell_type": "code",
   "execution_count": 2,
   "id": "c81111a7-2a7c-4b62-8afb-cf9fbef05313",
   "metadata": {},
   "outputs": [],
   "source": [
    "def PCA(X,k):\n",
    "    #Standardize the data\n",
    "    X = (X - X.mean()) / X.std(ddof=0)\n",
    "\n",
    "    # Calculating the correlation matrix of the data\n",
    "    X_cov = np.dot(X, X.T)\n",
    "\n",
    "    #Calculate eigenvalues and eigenvectors of the data\n",
    "    eig_values, eig_vectors = np.linalg.eig(X_cov)\n",
    "\n",
    "    #sort eigenvalues and eigenvectors\n",
    "    ind = np.argsort(eig_values)[::-1]\n",
    "    eig_values_sorted = eig_values[ind]\n",
    "    eig_vectors_sorted = eig_vectors[:,ind]\n",
    "    eig_vectors_subset = eig_vectors_sorted[:,0:k]\n",
    "    total_explained_variance = np.sum(eig_values_sorted[0:k],axis=0).real\n",
    "    X_reduced = np.dot(eig_vectors_subset.T , X)\n",
    "    X_reduced = X_reduced.real\n",
    "    return X_reduced, total_explained_variance"
   ]
  },
  {
   "cell_type": "code",
   "execution_count": 3,
   "id": "6f42732e-1e0c-4e97-b217-9ef7e210d62d",
   "metadata": {},
   "outputs": [
    {
     "data": {
      "image/png": "[encoded data removed]",
      "text/plain": [
       "<Figure size 640x480 with 1 Axes>"
      ]
     },
     "metadata": {},
     "output_type": "display_data"
    }
   ],
   "source": [
    "train = pd.read_csv('./data/mnist_train.csv').to_numpy()\n",
    "test = pd.read_csv('./data/mnist_test.csv').to_numpy()\n",
    "\n",
    "train_x, train_y = train[:,1:].T, train[:,0]\n",
    "test_x, test_y = test[:,1:].T, test[:,0]\n",
    "\n",
    "# find the appropriate number of extracted features \n",
    "num_of_features = np.arange(5,200,5)\n",
    "exp_var = []\n",
    "for k in num_of_features:\n",
    "    _,var = PCA(train_x,k)\n",
    "    exp_var.append(var)\n",
    "plt.plot(num_of_features,exp_var)\n",
    "plt.title('Total explained variance for different number of extracted features')\n",
    "plt.ylabel('Explained variance')\n",
    "plt.xlabel('Number of features')\n",
    "plt.grid()\n",
    "plt.show()"
   ]
  },
  {
   "cell_type": "code",
   "execution_count": 4,
   "id": "5746826f-6e70-4dd2-b663-6adde843dff0",
   "metadata": {},
   "outputs": [
    {
     "name": "stdout",
     "output_type": "stream",
     "text": [
      "[Linear kernel function, auto gamma] \n",
      " Accuracy: 0.0946 \n",
      "\n",
      "Total run time: 270.8759980201721\n"
     ]
    }
   ],
   "source": [
    "k = 125\n",
    "train_x_PCA,_ = PCA(train_x,k)\n",
    "test_x_PCA,_ = PCA(test_x,k)\n",
    "\n",
    "train_x = train_x_PCA.T\n",
    "test_x = test_x_PCA.T\n",
    "\n",
    "model_linear = SVC(kernel='linear',gamma = 'auto')\n",
    "start = time.time();\n",
    "model_linear.fit(train_x, train_y)\n",
    "\n",
    "# predict\n",
    "pred_y = model_linear.predict(test_x)\n",
    "end = time.time();\n",
    "\n",
    "# accuracy\n",
    "print(\"[Linear kernel function, auto gamma] \\n Accuracy:\", metrics.accuracy_score(y_true=test_y, y_pred=pred_y), \"\\n\")\n",
    "print(\"Total run time:\", end-start);"
   ]
  },
  {
   "cell_type": "markdown",
   "id": "d0b171e4-02fa-4b46-b437-55aa17b080b4",
   "metadata": {},
   "source": [
    "**Παρατήρηση**: Η μείωσης διάστασης με τον αλγόριθμο PCA επίσης δεν είναι αποδοτική"
   ]
  }
 ],
 "metadata": {
  "kernelspec": {
   "display_name": "Python 3.10 (XPython)",
   "language": "python",
   "name": "xpython"
  },
  "language_info": {
   "file_extension": ".py",
   "mimetype": "text/x-python",
   "name": "python",
   "version": "3.10.6"
  }
 },
 "nbformat": 4,
 "nbformat_minor": 5
}
